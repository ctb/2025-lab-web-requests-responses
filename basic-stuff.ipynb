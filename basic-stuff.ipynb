{
 "cells": [
  {
   "cell_type": "code",
   "execution_count": 1,
   "id": "cb4086b3-d2bb-463c-876f-bc439dc4efbf",
   "metadata": {},
   "outputs": [],
   "source": [
    "import requests\n",
    "from pprint import pprint\n",
    "from IPython.display import HTML"
   ]
  },
  {
   "cell_type": "markdown",
   "id": "c29ab5a9-9a71-487a-bc29-8cc26254330e",
   "metadata": {},
   "source": [
    "## \"GET\" and getting a static page"
   ]
  },
  {
   "cell_type": "code",
   "execution_count": 2,
   "id": "1c7b7307-0f48-4f13-b09d-a7eed209651c",
   "metadata": {},
   "outputs": [
    {
     "data": {
      "text/plain": [
       "<Response [200]>"
      ]
     },
     "execution_count": 2,
     "metadata": {},
     "output_type": "execute_result"
    }
   ],
   "source": [
    "response = requests.get('http://ivory.idyll.org/lab')\n",
    "response"
   ]
  },
  {
   "cell_type": "code",
   "execution_count": 3,
   "id": "547db1eb-0ee3-43f5-9be0-9a55e00c06ab",
   "metadata": {},
   "outputs": [
    {
     "name": "stdout",
     "output_type": "stream",
     "text": [
      "200\n",
      "OK\n"
     ]
    }
   ],
   "source": [
    "print(response.status_code)\n",
    "print(response.reason)"
   ]
  },
  {
   "cell_type": "code",
   "execution_count": 4,
   "id": "97dd5cf5-e146-433b-8423-b9e1712c13cf",
   "metadata": {},
   "outputs": [
    {
     "name": "stdout",
     "output_type": "stream",
     "text": [
      "b'\\n<!DOCTYPE html>\\n\\n<html lang=\"en\">\\n  <head>\\n    <meta charset=\"utf-8\" />\\n    <meta name=\"viewport\" c'\n"
     ]
    }
   ],
   "source": [
    "print(response.content[:100])"
   ]
  },
  {
   "cell_type": "code",
   "execution_count": 5,
   "id": "381cedb9-d0b4-4176-aed9-c760e2a91d32",
   "metadata": {},
   "outputs": [
    {
     "name": "stdout",
     "output_type": "stream",
     "text": [
      "{'Content-Length': '9967',\n",
      " 'Content-Type': 'text/html',\n",
      " 'Date': 'Mon, 27 Jan 2025 17:33:27 GMT',\n",
      " 'ETag': '\"5287d036f88e8936e893fa7ecf84d08d\"',\n",
      " 'Last-Modified': 'Sun, 01 Oct 2023 13:12:54 GMT',\n",
      " 'Server': 'AmazonS3',\n",
      " 'x-amz-id-2': '6Lr+ILpFHsXmvz/SkBj8/7G5j3SQ3hVCayPkhUjnko/Vlz/g6TdGTM3+6t5yF/W5tfFchSFxw78=',\n",
      " 'x-amz-meta-s3cmd-attrs': 'atime:1665156220/ctime:1696165970/gid:20/gname:staff/md5:5287d036f88e8936e893fa7ecf84d08d/mode:33188/mtime:1696165970/uid:502/uname:t',\n",
      " 'x-amz-request-id': 'XM4WNQZHPQRTY8BG'}\n"
     ]
    }
   ],
   "source": [
    "pprint(dict(response.headers))"
   ]
  },
  {
   "cell_type": "markdown",
   "id": "21883ce5-e942-4130-a752-9adbf76599b1",
   "metadata": {},
   "source": [
    "## \"GET\" and submitting form parameters\n",
    "\n",
    "I wrote a little form-processing server - let's poke at it.\n",
    "\n",
    "You can play with it in a browser here: http://phoenix.idyll.org:5000"
   ]
  },
  {
   "cell_type": "code",
   "execution_count": 6,
   "id": "037fa88c-d347-425b-a590-3969695c7d74",
   "metadata": {},
   "outputs": [
    {
     "name": "stdout",
     "output_type": "stream",
     "text": [
      "b'Please fill out the following form:\\n<form method=\\'GET\\' action=\\'/do_submit\\'>\\nInput here: <input type=\"text\" name=\"my_input\"></input>\\n<input type=\"submit\">\\n</form>\\n'\n"
     ]
    }
   ],
   "source": [
    "response = requests.get('http://phoenix.idyll.org:5000')\n",
    "print(response.content)"
   ]
  },
  {
   "cell_type": "code",
   "execution_count": 7,
   "id": "e8873d0b-0331-4136-8cfb-e582f23d050a",
   "metadata": {},
   "outputs": [],
   "source": [
    "params = dict(my_input='this is my input')\n",
    "response = requests.get('http://phoenix.idyll.org:5000/do_submit', params=params)"
   ]
  },
  {
   "cell_type": "code",
   "execution_count": 8,
   "id": "82a7ab23-dba4-4463-b139-1536eeb07090",
   "metadata": {},
   "outputs": [
    {
     "data": {
      "text/plain": [
       "<Response [200]>"
      ]
     },
     "execution_count": 8,
     "metadata": {},
     "output_type": "execute_result"
    }
   ],
   "source": [
    "response"
   ]
  },
  {
   "cell_type": "code",
   "execution_count": 9,
   "id": "39635546-8bff-484c-85f1-9968af02eb25",
   "metadata": {},
   "outputs": [
    {
     "data": {
      "text/plain": [
       "b\"Input was: this is my input. <a href='./'>Return to form.</a>\""
      ]
     },
     "execution_count": 9,
     "metadata": {},
     "output_type": "execute_result"
    }
   ],
   "source": [
    "response.content"
   ]
  },
  {
   "cell_type": "markdown",
   "id": "2cae1b29-546b-41de-96c7-9350405ceb4d",
   "metadata": {},
   "source": [
    "Note, you can also see headers in and out:"
   ]
  },
  {
   "cell_type": "code",
   "execution_count": 10,
   "id": "6c921930-05c1-423e-bba1-07f451c6d76e",
   "metadata": {},
   "outputs": [
    {
     "name": "stdout",
     "output_type": "stream",
     "text": [
      "{'User-Agent': 'python-requests/2.31.0', 'Accept-Encoding': 'gzip, deflate, br, zstd', 'Accept': '*/*', 'Connection': 'keep-alive'}\n"
     ]
    }
   ],
   "source": [
    "print(response.request.headers)"
   ]
  },
  {
   "cell_type": "code",
   "execution_count": 11,
   "id": "b5792e4d-e36c-46d2-b08c-4d626e29a04b",
   "metadata": {},
   "outputs": [
    {
     "name": "stdout",
     "output_type": "stream",
     "text": [
      "{'Server': 'Werkzeug/3.1.3 Python/3.13.1', 'Date': 'Mon, 27 Jan 2025 17:33:27 GMT', 'Content-Type': 'text/html; charset=utf-8', 'Content-Length': '61', 'Connection': 'close'}\n"
     ]
    }
   ],
   "source": [
    "print(response.headers)"
   ]
  },
  {
   "cell_type": "markdown",
   "id": "47a64c90-90b1-4b6f-9be3-4888c01cbd93",
   "metadata": {},
   "source": [
    "## Servers that return JSON\n",
    "\n",
    "Things get particularly interesting when remote servers return JSON, potentially in response to form submissions..."
   ]
  },
  {
   "cell_type": "code",
   "execution_count": 12,
   "id": "2fdc37ca-116e-49c9-9282-e9a9e1f96c15",
   "metadata": {},
   "outputs": [
    {
     "name": "stdout",
     "output_type": "stream",
     "text": [
      "<Response [200]>\n"
     ]
    }
   ],
   "source": [
    "params = dict(multiply='5')\n",
    "response = requests.get('http://phoenix.idyll.org:5000/some_json', params=params)\n",
    "print(response)"
   ]
  },
  {
   "cell_type": "code",
   "execution_count": 13,
   "id": "86683ddc-110e-4f31-a7f5-722fb433b61b",
   "metadata": {},
   "outputs": [
    {
     "name": "stdout",
     "output_type": "stream",
     "text": [
      "b'{\"a dict\":{\"x\":10,\"y\":15},\"a list\":[\"hello\",\"world\"],\"multiply_by_5\":25,\"value1\":5}\\n'\n"
     ]
    }
   ],
   "source": [
    "print(response.content)"
   ]
  },
  {
   "cell_type": "code",
   "execution_count": 14,
   "id": "ba8c78a8-011e-4738-a05b-6708ff6a3f86",
   "metadata": {},
   "outputs": [
    {
     "data": {
      "text/plain": [
       "{'a dict': {'x': 10, 'y': 15},\n",
       " 'a list': ['hello', 'world'],\n",
       " 'multiply_by_5': 25,\n",
       " 'value1': 5}"
      ]
     },
     "execution_count": 14,
     "metadata": {},
     "output_type": "execute_result"
    }
   ],
   "source": [
    "results = response.json()\n",
    "results"
   ]
  },
  {
   "cell_type": "code",
   "execution_count": null,
   "id": "bb1b7b91-3edc-4b96-b5be-a176d3e2662a",
   "metadata": {},
   "outputs": [],
   "source": []
  }
 ],
 "metadata": {
  "kernelspec": {
   "display_name": "Python 3 (ipykernel)",
   "language": "python",
   "name": "python3"
  },
  "language_info": {
   "codemirror_mode": {
    "name": "ipython",
    "version": 3
   },
   "file_extension": ".py",
   "mimetype": "text/x-python",
   "name": "python",
   "nbconvert_exporter": "python",
   "pygments_lexer": "ipython3",
   "version": "3.11.6"
  }
 },
 "nbformat": 4,
 "nbformat_minor": 5
}
